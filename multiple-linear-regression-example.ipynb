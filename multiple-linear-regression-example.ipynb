{
 "cells": [
  {
   "cell_type": "markdown",
   "id": "fced9a7c-bf3f-478c-9860-5d24a88b172b",
   "metadata": {},
   "source": [
    "# Multilinear Regression Model"
   ]
  },
  {
   "cell_type": "code",
   "execution_count": 1,
   "id": "734a815f-7e3e-4032-9721-eb5409fbc523",
   "metadata": {},
   "outputs": [],
   "source": [
    "import numpy as np\n",
    "import pandas as pd\n",
    "\n",
    "import matplotlib.pyplot as plt\n",
    "import seaborn as sns\n",
    "sns.set_theme()\n",
    "sns.set(rc={'figure.figsize':(5, 4)})\n",
    "sns.set(font_scale=1.5) "
   ]
  },
  {
   "cell_type": "markdown",
   "id": "5ba56ad5-8304-4744-94ed-620fad6c23a5",
   "metadata": {},
   "source": [
    "### Part 1: Data Cleaning & Exploration\n",
    "\n",
    "1. The `world_happiness.xlsx` dataset from the `data` folder contains a series of variables that can be used as a proxy to a country's evaluation of its own goodness of life. The `happiness_score` metric tries to summarise how \"happy\" each country is. Let's start loading and saving the dataset to a DataFrame object named `happy` and let's familiarise with its contents:"
   ]
  },
  {
   "cell_type": "code",
   "execution_count": 2,
   "id": "45c7adcb-eac7-4e21-8987-e177d3b6436c",
   "metadata": {},
   "outputs": [
    {
     "name": "stdout",
     "output_type": "stream",
     "text": [
      "<class 'pandas.core.frame.DataFrame'>\n",
      "RangeIndex: 143 entries, 0 to 142\n",
      "Data columns (total 8 columns):\n",
      " #   Column           Non-Null Count  Dtype  \n",
      "---  ------           --------------  -----  \n",
      " 0   country          143 non-null    object \n",
      " 1   social_support   142 non-null    float64\n",
      " 2   freedom          142 non-null    float64\n",
      " 3   corruption       135 non-null    float64\n",
      " 4   generosity       142 non-null    float64\n",
      " 5   gdp_per_cap      143 non-null    int64  \n",
      " 6   life_exp         143 non-null    float64\n",
      " 7   happiness_score  143 non-null    int64  \n",
      "dtypes: float64(5), int64(2), object(1)\n",
      "memory usage: 9.1+ KB\n"
     ]
    },
    {
     "data": {
      "text/html": [
       "<div>\n",
       "<style scoped>\n",
       "    .dataframe tbody tr th:only-of-type {\n",
       "        vertical-align: middle;\n",
       "    }\n",
       "\n",
       "    .dataframe tbody tr th {\n",
       "        vertical-align: top;\n",
       "    }\n",
       "\n",
       "    .dataframe thead th {\n",
       "        text-align: right;\n",
       "    }\n",
       "</style>\n",
       "<table border=\"1\" class=\"dataframe\">\n",
       "  <thead>\n",
       "    <tr style=\"text-align: right;\">\n",
       "      <th></th>\n",
       "      <th>social_support</th>\n",
       "      <th>freedom</th>\n",
       "      <th>corruption</th>\n",
       "      <th>generosity</th>\n",
       "      <th>gdp_per_cap</th>\n",
       "      <th>life_exp</th>\n",
       "      <th>happiness_score</th>\n",
       "    </tr>\n",
       "  </thead>\n",
       "  <tbody>\n",
       "    <tr>\n",
       "      <th>count</th>\n",
       "      <td>142.000000</td>\n",
       "      <td>142.000000</td>\n",
       "      <td>135.000000</td>\n",
       "      <td>142.00000</td>\n",
       "      <td>143.000000</td>\n",
       "      <td>143.000000</td>\n",
       "      <td>143.000000</td>\n",
       "    </tr>\n",
       "    <tr>\n",
       "      <th>mean</th>\n",
       "      <td>77.352113</td>\n",
       "      <td>77.000000</td>\n",
       "      <td>73.244444</td>\n",
       "      <td>78.78169</td>\n",
       "      <td>20124.286713</td>\n",
       "      <td>73.796503</td>\n",
       "      <td>77.643357</td>\n",
       "    </tr>\n",
       "    <tr>\n",
       "      <th>std</th>\n",
       "      <td>45.743379</td>\n",
       "      <td>45.569058</td>\n",
       "      <td>42.237507</td>\n",
       "      <td>44.87921</td>\n",
       "      <td>20570.547556</td>\n",
       "      <td>7.092194</td>\n",
       "      <td>46.377418</td>\n",
       "    </tr>\n",
       "    <tr>\n",
       "      <th>min</th>\n",
       "      <td>1.000000</td>\n",
       "      <td>1.000000</td>\n",
       "      <td>1.000000</td>\n",
       "      <td>1.00000</td>\n",
       "      <td>631.000000</td>\n",
       "      <td>52.900000</td>\n",
       "      <td>0.000000</td>\n",
       "    </tr>\n",
       "    <tr>\n",
       "      <th>25%</th>\n",
       "      <td>37.250000</td>\n",
       "      <td>37.500000</td>\n",
       "      <td>37.500000</td>\n",
       "      <td>41.25000</td>\n",
       "      <td>4110.000000</td>\n",
       "      <td>69.100000</td>\n",
       "      <td>36.500000</td>\n",
       "    </tr>\n",
       "    <tr>\n",
       "      <th>50%</th>\n",
       "      <td>76.000000</td>\n",
       "      <td>75.500000</td>\n",
       "      <td>74.000000</td>\n",
       "      <td>80.50000</td>\n",
       "      <td>13000.000000</td>\n",
       "      <td>74.900000</td>\n",
       "      <td>79.000000</td>\n",
       "    </tr>\n",
       "    <tr>\n",
       "      <th>75%</th>\n",
       "      <td>116.750000</td>\n",
       "      <td>116.750000</td>\n",
       "      <td>109.500000</td>\n",
       "      <td>116.75000</td>\n",
       "      <td>29750.000000</td>\n",
       "      <td>79.650000</td>\n",
       "      <td>118.000000</td>\n",
       "    </tr>\n",
       "    <tr>\n",
       "      <th>max</th>\n",
       "      <td>155.000000</td>\n",
       "      <td>155.000000</td>\n",
       "      <td>148.000000</td>\n",
       "      <td>155.00000</td>\n",
       "      <td>113000.000000</td>\n",
       "      <td>85.100000</td>\n",
       "      <td>155.000000</td>\n",
       "    </tr>\n",
       "  </tbody>\n",
       "</table>\n",
       "</div>"
      ],
      "text/plain": [
       "       social_support     freedom  corruption  generosity    gdp_per_cap  \\\n",
       "count      142.000000  142.000000  135.000000   142.00000     143.000000   \n",
       "mean        77.352113   77.000000   73.244444    78.78169   20124.286713   \n",
       "std         45.743379   45.569058   42.237507    44.87921   20570.547556   \n",
       "min          1.000000    1.000000    1.000000     1.00000     631.000000   \n",
       "25%         37.250000   37.500000   37.500000    41.25000    4110.000000   \n",
       "50%         76.000000   75.500000   74.000000    80.50000   13000.000000   \n",
       "75%        116.750000  116.750000  109.500000   116.75000   29750.000000   \n",
       "max        155.000000  155.000000  148.000000   155.00000  113000.000000   \n",
       "\n",
       "         life_exp  happiness_score  \n",
       "count  143.000000       143.000000  \n",
       "mean    73.796503        77.643357  \n",
       "std      7.092194        46.377418  \n",
       "min     52.900000         0.000000  \n",
       "25%     69.100000        36.500000  \n",
       "50%     74.900000        79.000000  \n",
       "75%     79.650000       118.000000  \n",
       "max     85.100000       155.000000  "
      ]
     },
     "execution_count": 2,
     "metadata": {},
     "output_type": "execute_result"
    }
   ],
   "source": [
    "happy = pd.read_excel('data/world_happiness.xlsx')\n",
    "\n",
    "happy.info()\n",
    "\n",
    "happy.describe()"
   ]
  },
  {
   "cell_type": "markdown",
   "id": "2e8a9bb6-9d7a-412b-8d19-a4adbf7c63c4",
   "metadata": {},
   "source": [
    "2. Let's use histogram to plot the distribution of the `happiness_score` variable, and to answer this question: **which distribution does it resemble?**"
   ]
  },
  {
   "cell_type": "code",
   "execution_count": 3,
   "id": "9272de88-212e-47ac-9fce-86aaa88c2f14",
   "metadata": {},
   "outputs": [
    {
     "name": "stdout",
     "output_type": "stream",
     "text": [
      "number of total value: 143\n",
      "number of distinct value: 143\n",
      "min value: 0\n",
      "max value: 155\n",
      "\n",
      "Avg. bin filling percentage: 92%\n"
     ]
    }
   ],
   "source": [
    "# Before plotting a histogram, let's explore our data:\n",
    "\n",
    "happy_score = happy['happiness_score']\n",
    "\n",
    "total_values = len(happy_score)\n",
    "distinct_values = len(happy_score.unique())\n",
    "min_value = happy_score.min()\n",
    "max_value = happy_score.max()\n",
    "\n",
    "print(f'number of total value: {total_values}')\n",
    "print(f'number of distinct value: {distinct_values}')\n",
    "print(f'min value: {min_value}')\n",
    "print(f'max value: {max_value}')\n",
    "print('')\n",
    "\n",
    "bin_fill_percentage = total_values/((max_value-(min_value)+1))*100\n",
    "print(f'Avg. bin filling percentage: {bin_fill_percentage:.0f}%')"
   ]
  },
  {
   "cell_type": "code",
   "execution_count": 4,
   "id": "657edd2a-5db8-47a7-a60e-da819ecd5b20",
   "metadata": {},
   "outputs": [
    {
     "name": "stdout",
     "output_type": "stream",
     "text": [
      "Avg. bin filling percentage: 92%\n",
      "\n"
     ]
    },
    {
     "data": {
      "image/png": "[encoded data removed]",
      "text/plain": [
       "<Figure size 500x400 with 1 Axes>"
      ]
     },
     "metadata": {},
     "output_type": "display_data"
    }
   ],
   "source": [
    "# Since there are 143 integer values, all distinct, in a range from 0 to 155\n",
    "# (so 143 distinct values in a range of 156 possible slots),\n",
    "# We can already assume that the distribution is uniform, with all bins \"almost entirely filled\".\n",
    "# (I expressed this concept numerically using the bin_fill_percentage parameter)\n",
    "\n",
    "# Let's check it via histogram:\n",
    "\n",
    "print(f'Avg. bin filling percentage: {bin_fill_percentage:.0f}%')\n",
    "print('')\n",
    "sns.histplot(data=happy, x='happiness_score', bins=6)\n",
    "plt.show()"
   ]
  },
  {
   "cell_type": "code",
   "execution_count": 5,
   "id": "825ffe8c-a498-4d3d-a710-fcf3dd30d635",
   "metadata": {},
   "outputs": [],
   "source": [
    "# As assumed, the distribution is uniform"
   ]
  },
  {
   "cell_type": "markdown",
   "id": "cf499487-473b-48f6-84d4-2df98f1cda1f",
   "metadata": {
    "tags": []
   },
   "source": [
    "3. Let's now plot a correlation matrix between all the numeric variables in the dataset and let's answer to this question: **which variable is the least correlated with the `happiness_score` metric?** "
   ]
  },
  {
   "cell_type": "code",
   "execution_count": 6,
   "id": "4f8d49ef-2a1a-45ec-bfe1-895eefac4fe5",
   "metadata": {},
   "outputs": [
    {
     "data": {
      "text/html": [
       "<div>\n",
       "<style scoped>\n",
       "    .dataframe tbody tr th:only-of-type {\n",
       "        vertical-align: middle;\n",
       "    }\n",
       "\n",
       "    .dataframe tbody tr th {\n",
       "        vertical-align: top;\n",
       "    }\n",
       "\n",
       "    .dataframe thead th {\n",
       "        text-align: right;\n",
       "    }\n",
       "</style>\n",
       "<table border=\"1\" class=\"dataframe\">\n",
       "  <thead>\n",
       "    <tr style=\"text-align: right;\">\n",
       "      <th></th>\n",
       "      <th>social_support</th>\n",
       "      <th>freedom</th>\n",
       "      <th>corruption</th>\n",
       "      <th>generosity</th>\n",
       "      <th>gdp_per_cap</th>\n",
       "      <th>life_exp</th>\n",
       "      <th>happiness_score</th>\n",
       "    </tr>\n",
       "  </thead>\n",
       "  <tbody>\n",
       "    <tr>\n",
       "      <th>social_support</th>\n",
       "      <td>1.000000</td>\n",
       "      <td>0.470893</td>\n",
       "      <td>0.154848</td>\n",
       "      <td>0.449225</td>\n",
       "      <td>-0.687268</td>\n",
       "      <td>-0.705512</td>\n",
       "      <td>-0.824702</td>\n",
       "    </tr>\n",
       "    <tr>\n",
       "      <th>freedom</th>\n",
       "      <td>0.470893</td>\n",
       "      <td>1.000000</td>\n",
       "      <td>0.387234</td>\n",
       "      <td>0.493207</td>\n",
       "      <td>-0.444420</td>\n",
       "      <td>-0.388856</td>\n",
       "      <td>-0.567582</td>\n",
       "    </tr>\n",
       "    <tr>\n",
       "      <th>corruption</th>\n",
       "      <td>0.154848</td>\n",
       "      <td>0.387234</td>\n",
       "      <td>1.000000</td>\n",
       "      <td>0.305043</td>\n",
       "      <td>-0.335716</td>\n",
       "      <td>-0.135665</td>\n",
       "      <td>-0.215308</td>\n",
       "    </tr>\n",
       "    <tr>\n",
       "      <th>generosity</th>\n",
       "      <td>0.449225</td>\n",
       "      <td>0.493207</td>\n",
       "      <td>0.305043</td>\n",
       "      <td>1.000000</td>\n",
       "      <td>-0.531636</td>\n",
       "      <td>-0.433144</td>\n",
       "      <td>-0.499259</td>\n",
       "    </tr>\n",
       "    <tr>\n",
       "      <th>gdp_per_cap</th>\n",
       "      <td>-0.687268</td>\n",
       "      <td>-0.444420</td>\n",
       "      <td>-0.335716</td>\n",
       "      <td>-0.531636</td>\n",
       "      <td>1.000000</td>\n",
       "      <td>0.701955</td>\n",
       "      <td>0.727973</td>\n",
       "    </tr>\n",
       "    <tr>\n",
       "      <th>life_exp</th>\n",
       "      <td>-0.705512</td>\n",
       "      <td>-0.388856</td>\n",
       "      <td>-0.135665</td>\n",
       "      <td>-0.433144</td>\n",
       "      <td>0.701955</td>\n",
       "      <td>1.000000</td>\n",
       "      <td>0.780225</td>\n",
       "    </tr>\n",
       "    <tr>\n",
       "      <th>happiness_score</th>\n",
       "      <td>-0.824702</td>\n",
       "      <td>-0.567582</td>\n",
       "      <td>-0.215308</td>\n",
       "      <td>-0.499259</td>\n",
       "      <td>0.727973</td>\n",
       "      <td>0.780225</td>\n",
       "      <td>1.000000</td>\n",
       "    </tr>\n",
       "  </tbody>\n",
       "</table>\n",
       "</div>"
      ],
      "text/plain": [
       "                 social_support   freedom  corruption  generosity  \\\n",
       "social_support         1.000000  0.470893    0.154848    0.449225   \n",
       "freedom                0.470893  1.000000    0.387234    0.493207   \n",
       "corruption             0.154848  0.387234    1.000000    0.305043   \n",
       "generosity             0.449225  0.493207    0.305043    1.000000   \n",
       "gdp_per_cap           -0.687268 -0.444420   -0.335716   -0.531636   \n",
       "life_exp              -0.705512 -0.388856   -0.135665   -0.433144   \n",
       "happiness_score       -0.824702 -0.567582   -0.215308   -0.499259   \n",
       "\n",
       "                 gdp_per_cap  life_exp  happiness_score  \n",
       "social_support     -0.687268 -0.705512        -0.824702  \n",
       "freedom            -0.444420 -0.388856        -0.567582  \n",
       "corruption         -0.335716 -0.135665        -0.215308  \n",
       "generosity         -0.531636 -0.433144        -0.499259  \n",
       "gdp_per_cap         1.000000  0.701955         0.727973  \n",
       "life_exp            0.701955  1.000000         0.780225  \n",
       "happiness_score     0.727973  0.780225         1.000000  "
      ]
     },
     "execution_count": 6,
     "metadata": {},
     "output_type": "execute_result"
    }
   ],
   "source": [
    "# Let's visualize the correlation matrix:\n",
    "\n",
    "correlation = happy.corr()\n",
    "correlation"
   ]
  },
  {
   "cell_type": "code",
   "execution_count": 7,
   "id": "64e37d35-0306-48e5-bf7c-ee8a2f4c7b9f",
   "metadata": {},
   "outputs": [
    {
     "name": "stdout",
     "output_type": "stream",
     "text": [
      "Variable least correlated: corruption\n",
      "Correlation value: -0.2153\n"
     ]
    }
   ],
   "source": [
    "# Q3 - Version 1\n",
    "\n",
    "# I write the matrix containing the absolute values of the correlation matrix:\n",
    "abs_val_correlation = correlation.abs()\n",
    "abs_val_correlation\n",
    "\n",
    "# Let's extract the variable for which the correlation is minimum (in absolute value):\n",
    "least_corr_variable = abs_val_correlation['happiness_score'].sort_values(ascending=True).index[0]\n",
    "\n",
    "# I extract the correlation value corresponding to the variable for which the correlation is \n",
    "# minimal in absolute value:\n",
    "least_corr_value = correlation['happiness_score'].loc[least_corr_variable]\n",
    "\n",
    "# Let's print the results:\n",
    "print(f'Variable least correlated: {least_corr_variable}')\n",
    "print(f'Correlation value: {least_corr_value:.4f}')"
   ]
  },
  {
   "cell_type": "code",
   "execution_count": 8,
   "id": "250f684d-b739-4fe2-bc67-a980a7cac9b8",
   "metadata": {},
   "outputs": [
    {
     "name": "stdout",
     "output_type": "stream",
     "text": [
      "Variable least correlated: corruption\n",
      "Correlation value: -0.2153\n"
     ]
    }
   ],
   "source": [
    "# Q3 - Version 2\n",
    "\n",
    "# I find the minimum correlation value (in absolute value) for happiness_score:\n",
    "min_happy_corr = abs_val_correlation['happiness_score'].min()\n",
    "\n",
    "# Let's select the row of the DataFrame for which the happiness_score value is equal to\n",
    "# the minimum value found in the previous row. After doing this I obtain the row index:\n",
    "least_corr_variable = abs_val_correlation[abs_val_correlation['happiness_score']==min_happy_corr].\\\n",
    "index.to_list()[0]\n",
    "\n",
    "# I select the correlation value for the least correlated variable:\n",
    "least_corr_value = correlation['happiness_score'].loc[least_corr_variable]\n",
    "\n",
    "# Let's print the results:\n",
    "print(f'Variable least correlated: {least_corr_variable}')\n",
    "print(f'Correlation value: {least_corr_value:.4f}')"
   ]
  },
  {
   "cell_type": "markdown",
   "id": "210a4db8-5d37-418e-a795-1d23de00c3c6",
   "metadata": {},
   "source": [
    "4. As we noticed in `Point 1` of our analysis by using the method `.describe()` on dataset `happy`, `corruption` metric has some missing values. Two questions: **how many countries have a missing corruption value?** And **which are these countries?**"
   ]
  },
  {
   "cell_type": "code",
   "execution_count": 9,
   "id": "92739ce1-1042-4753-852c-90ee8024033d",
   "metadata": {},
   "outputs": [
    {
     "name": "stdout",
     "output_type": "stream",
     "text": [
      "Number of countries with missing value for corruption: 8\n"
     ]
    }
   ],
   "source": [
    "# Q4 - Part 1\n",
    "\n",
    "nan_corruption = len(happy[pd.isna(happy['corruption'])])\n",
    "# nan_corruption = len(happy[happy['corruption'].isna() == True]['country'])\n",
    "\n",
    "print(f'Number of countries with missing value for corruption: {nan_corruption}')"
   ]
  },
  {
   "cell_type": "code",
   "execution_count": 10,
   "id": "2d26baa0-cf3a-43b3-811a-26f79744e62c",
   "metadata": {},
   "outputs": [
    {
     "data": {
      "text/plain": [
       "20    United Arab Emirates\n",
       "26            Saudi Arabia\n",
       "27                   Qatar\n",
       "35                 Bahrain\n",
       "47                  Kuwait\n",
       "78            Turkmenistan\n",
       "84                   China\n",
       "91                  Jordan\n",
       "Name: country, dtype: object"
      ]
     },
     "execution_count": 10,
     "metadata": {},
     "output_type": "execute_result"
    }
   ],
   "source": [
    "# Q4 - Part 2\n",
    "\n",
    "happy[pd.isna(happy['corruption'])]['country']\n",
    "\n",
    "# or:\n",
    "# happy[happy['corruption'].isna() == True]['country']"
   ]
  },
  {
   "cell_type": "markdown",
   "id": "05ea2297-0dd7-46da-8adf-0947eebb39f6",
   "metadata": {},
   "source": [
    "5. Let's now replace all missing values in all columns of the DataFrame. Considering the type of our data, we decide to replace the missing values with the respective column's mean value:"
   ]
  },
  {
   "cell_type": "code",
   "execution_count": 11,
   "id": "fe96151e-9c43-4a77-8fdb-0ab6fabd2027",
   "metadata": {},
   "outputs": [
    {
     "data": {
      "text/plain": [
       "['i', 'f', 'O']"
      ]
     },
     "execution_count": 11,
     "metadata": {},
     "output_type": "execute_result"
    }
   ],
   "source": [
    "# Let's extract all distinct dtypes from the DataFrame Happy:\n",
    "\n",
    "happy_dtypes = []\n",
    "for el in happy.columns:\n",
    "    happy_dtypes.append(happy[el].dtype.kind)\n",
    "    \n",
    "happy_dtypes = list(set(happy_dtypes))\n",
    "happy_dtypes"
   ]
  },
  {
   "cell_type": "code",
   "execution_count": 12,
   "id": "a5db9774-5538-4310-af52-053f90a49c63",
   "metadata": {},
   "outputs": [],
   "source": [
    "# Let's replace all the missing values via a for loop on all columns of numeric type:\n",
    "\n",
    "for el in happy.columns:\n",
    "    if happy[el].dtype.kind!='O':\n",
    "        happy[el].fillna(happy[el].mean(), inplace=True)"
   ]
  },
  {
   "cell_type": "code",
   "execution_count": 13,
   "id": "b4fb4ec9-5b48-4e23-94bf-ac7dd958f2cd",
   "metadata": {},
   "outputs": [
    {
     "name": "stdout",
     "output_type": "stream",
     "text": [
      "<class 'pandas.core.frame.DataFrame'>\n",
      "RangeIndex: 143 entries, 0 to 142\n",
      "Data columns (total 8 columns):\n",
      " #   Column           Non-Null Count  Dtype  \n",
      "---  ------           --------------  -----  \n",
      " 0   country          143 non-null    object \n",
      " 1   social_support   143 non-null    float64\n",
      " 2   freedom          143 non-null    float64\n",
      " 3   corruption       143 non-null    float64\n",
      " 4   generosity       143 non-null    float64\n",
      " 5   gdp_per_cap      143 non-null    int64  \n",
      " 6   life_exp         143 non-null    float64\n",
      " 7   happiness_score  143 non-null    int64  \n",
      "dtypes: float64(5), int64(2), object(1)\n",
      "memory usage: 9.1+ KB\n"
     ]
    },
    {
     "data": {
      "text/html": [
       "<div>\n",
       "<style scoped>\n",
       "    .dataframe tbody tr th:only-of-type {\n",
       "        vertical-align: middle;\n",
       "    }\n",
       "\n",
       "    .dataframe tbody tr th {\n",
       "        vertical-align: top;\n",
       "    }\n",
       "\n",
       "    .dataframe thead th {\n",
       "        text-align: right;\n",
       "    }\n",
       "</style>\n",
       "<table border=\"1\" class=\"dataframe\">\n",
       "  <thead>\n",
       "    <tr style=\"text-align: right;\">\n",
       "      <th></th>\n",
       "      <th>social_support</th>\n",
       "      <th>freedom</th>\n",
       "      <th>corruption</th>\n",
       "      <th>generosity</th>\n",
       "      <th>gdp_per_cap</th>\n",
       "      <th>life_exp</th>\n",
       "      <th>happiness_score</th>\n",
       "    </tr>\n",
       "  </thead>\n",
       "  <tbody>\n",
       "    <tr>\n",
       "      <th>count</th>\n",
       "      <td>143.000000</td>\n",
       "      <td>143.00000</td>\n",
       "      <td>143.000000</td>\n",
       "      <td>143.000000</td>\n",
       "      <td>143.000000</td>\n",
       "      <td>143.000000</td>\n",
       "      <td>143.000000</td>\n",
       "    </tr>\n",
       "    <tr>\n",
       "      <th>mean</th>\n",
       "      <td>77.352113</td>\n",
       "      <td>77.00000</td>\n",
       "      <td>73.244444</td>\n",
       "      <td>78.781690</td>\n",
       "      <td>20124.286713</td>\n",
       "      <td>73.796503</td>\n",
       "      <td>77.643357</td>\n",
       "    </tr>\n",
       "    <tr>\n",
       "      <th>std</th>\n",
       "      <td>45.582026</td>\n",
       "      <td>45.40832</td>\n",
       "      <td>41.030471</td>\n",
       "      <td>44.720905</td>\n",
       "      <td>20570.547556</td>\n",
       "      <td>7.092194</td>\n",
       "      <td>46.377418</td>\n",
       "    </tr>\n",
       "    <tr>\n",
       "      <th>min</th>\n",
       "      <td>1.000000</td>\n",
       "      <td>1.00000</td>\n",
       "      <td>1.000000</td>\n",
       "      <td>1.000000</td>\n",
       "      <td>631.000000</td>\n",
       "      <td>52.900000</td>\n",
       "      <td>0.000000</td>\n",
       "    </tr>\n",
       "    <tr>\n",
       "      <th>25%</th>\n",
       "      <td>37.500000</td>\n",
       "      <td>38.00000</td>\n",
       "      <td>39.500000</td>\n",
       "      <td>41.500000</td>\n",
       "      <td>4110.000000</td>\n",
       "      <td>69.100000</td>\n",
       "      <td>36.500000</td>\n",
       "    </tr>\n",
       "    <tr>\n",
       "      <th>50%</th>\n",
       "      <td>77.000000</td>\n",
       "      <td>76.00000</td>\n",
       "      <td>73.244444</td>\n",
       "      <td>80.000000</td>\n",
       "      <td>13000.000000</td>\n",
       "      <td>74.900000</td>\n",
       "      <td>79.000000</td>\n",
       "    </tr>\n",
       "    <tr>\n",
       "      <th>75%</th>\n",
       "      <td>116.500000</td>\n",
       "      <td>116.50000</td>\n",
       "      <td>107.500000</td>\n",
       "      <td>116.500000</td>\n",
       "      <td>29750.000000</td>\n",
       "      <td>79.650000</td>\n",
       "      <td>118.000000</td>\n",
       "    </tr>\n",
       "    <tr>\n",
       "      <th>max</th>\n",
       "      <td>155.000000</td>\n",
       "      <td>155.00000</td>\n",
       "      <td>148.000000</td>\n",
       "      <td>155.000000</td>\n",
       "      <td>113000.000000</td>\n",
       "      <td>85.100000</td>\n",
       "      <td>155.000000</td>\n",
       "    </tr>\n",
       "  </tbody>\n",
       "</table>\n",
       "</div>"
      ],
      "text/plain": [
       "       social_support    freedom  corruption  generosity    gdp_per_cap  \\\n",
       "count      143.000000  143.00000  143.000000  143.000000     143.000000   \n",
       "mean        77.352113   77.00000   73.244444   78.781690   20124.286713   \n",
       "std         45.582026   45.40832   41.030471   44.720905   20570.547556   \n",
       "min          1.000000    1.00000    1.000000    1.000000     631.000000   \n",
       "25%         37.500000   38.00000   39.500000   41.500000    4110.000000   \n",
       "50%         77.000000   76.00000   73.244444   80.000000   13000.000000   \n",
       "75%        116.500000  116.50000  107.500000  116.500000   29750.000000   \n",
       "max        155.000000  155.00000  148.000000  155.000000  113000.000000   \n",
       "\n",
       "         life_exp  happiness_score  \n",
       "count  143.000000       143.000000  \n",
       "mean    73.796503        77.643357  \n",
       "std      7.092194        46.377418  \n",
       "min     52.900000         0.000000  \n",
       "25%     69.100000        36.500000  \n",
       "50%     74.900000        79.000000  \n",
       "75%     79.650000       118.000000  \n",
       "max     85.100000       155.000000  "
      ]
     },
     "execution_count": 13,
     "metadata": {},
     "output_type": "execute_result"
    }
   ],
   "source": [
    "# Let's verify that the imputation of the average values has been successful:\n",
    "\n",
    "happy.info()\n",
    "happy.describe()"
   ]
  },
  {
   "cell_type": "code",
   "execution_count": 14,
   "id": "4af0acd0-928c-4fb4-a015-80010ad5851c",
   "metadata": {},
   "outputs": [],
   "source": [
    "# Now value on count row is 143 for all columns (as expected) and on the quartiles rows vales have changed; \n",
    "# Mean row values have not changed, as expected from an imputation of mean values."
   ]
  },
  {
   "cell_type": "code",
   "execution_count": 15,
   "id": "a51c7fd2-c828-43d5-ad8a-2d40af11b1c2",
   "metadata": {},
   "outputs": [],
   "source": [
    "# Let's take the opportunity to define a more general function that allows us to replace the missing \n",
    "# values of a DataFrame with the average values of the related columns in all columns of type float or int:\n",
    "    \n",
    "def fillna_with_mean(df):\n",
    "    for el in df.columns:\n",
    "        if df[el].dtype.kind=='f' or df[el].dtype.kind=='i':\n",
    "            df[el].fillna(df[el].mean(), inplace=True)\n",
    "    return df"
   ]
  },
  {
   "cell_type": "code",
   "execution_count": 16,
   "id": "34cb8584-e5b5-4bf8-b42f-150ed8e2a94f",
   "metadata": {},
   "outputs": [
    {
     "data": {
      "text/html": [
       "<div>\n",
       "<style scoped>\n",
       "    .dataframe tbody tr th:only-of-type {\n",
       "        vertical-align: middle;\n",
       "    }\n",
       "\n",
       "    .dataframe tbody tr th {\n",
       "        vertical-align: top;\n",
       "    }\n",
       "\n",
       "    .dataframe thead th {\n",
       "        text-align: right;\n",
       "    }\n",
       "</style>\n",
       "<table border=\"1\" class=\"dataframe\">\n",
       "  <thead>\n",
       "    <tr style=\"text-align: right;\">\n",
       "      <th></th>\n",
       "      <th>A</th>\n",
       "      <th>B</th>\n",
       "      <th>C</th>\n",
       "    </tr>\n",
       "  </thead>\n",
       "  <tbody>\n",
       "    <tr>\n",
       "      <th>0</th>\n",
       "      <td>1.0</td>\n",
       "      <td>2.5</td>\n",
       "      <td>one</td>\n",
       "    </tr>\n",
       "    <tr>\n",
       "      <th>1</th>\n",
       "      <td>1.0</td>\n",
       "      <td>2.5</td>\n",
       "      <td>one</td>\n",
       "    </tr>\n",
       "    <tr>\n",
       "      <th>2</th>\n",
       "      <td>2.0</td>\n",
       "      <td>2.5</td>\n",
       "      <td>two</td>\n",
       "    </tr>\n",
       "    <tr>\n",
       "      <th>3</th>\n",
       "      <td>0.0</td>\n",
       "      <td>2.5</td>\n",
       "      <td>NaN</td>\n",
       "    </tr>\n",
       "  </tbody>\n",
       "</table>\n",
       "</div>"
      ],
      "text/plain": [
       "     A    B    C\n",
       "0  1.0  2.5  one\n",
       "1  1.0  2.5  one\n",
       "2  2.0  2.5  two\n",
       "3  0.0  2.5  NaN"
      ]
     },
     "execution_count": 16,
     "metadata": {},
     "output_type": "execute_result"
    }
   ],
   "source": [
    "# Let's test our function:\n",
    "\n",
    "my_dict = {'A': [np.NaN, 1, 2, 0], \n",
    "           'B': [2.5, 2.5, 2.5, np.NaN], \n",
    "           'C': ['one', 'one', 'two', np.NaN]}\n",
    "\n",
    "df_test = pd.DataFrame.from_dict(my_dict)\n",
    "\n",
    "fillna_with_mean(df_test)"
   ]
  },
  {
   "cell_type": "markdown",
   "id": "62a6d5a1-6adf-4f66-bd9d-911a0e07c85a",
   "metadata": {},
   "source": [
    "### Part 2: Linear Regression Model\n",
    "\n",
    "6. Let's now use `statsmodel` to create a linear regression model. Let's start with a model in one single variable, where we use `life_exp` variable to predict `happiness_score`. Let's then try to answer this question: given the model we will create, **a 1-year increase in life expectancy corresponds to an increase of how many points of the happiness score variable?**"
   ]
  },
  {
   "cell_type": "code",
   "execution_count": 17,
   "id": "50a7d958-0796-48e4-a8fd-d9caeb7632b1",
   "metadata": {},
   "outputs": [
    {
     "data": {
      "text/html": [
       "<table class=\"simpletable\">\n",
       "<caption>OLS Regression Results</caption>\n",
       "<tr>\n",
       "  <th>Dep. Variable:</th>     <td>happiness_score</td> <th>  R-squared:         </th> <td>   0.609</td>\n",
       "</tr>\n",
       "<tr>\n",
       "  <th>Model:</th>                   <td>OLS</td>       <th>  Adj. R-squared:    </th> <td>   0.606</td>\n",
       "</tr>\n",
       "<tr>\n",
       "  <th>Method:</th>             <td>Least Squares</td>  <th>  F-statistic:       </th> <td>   219.4</td>\n",
       "</tr>\n",
       "<tr>\n",
       "  <th>Date:</th>             <td>Sun, 05 Mar 2023</td> <th>  Prob (F-statistic):</th> <td>1.59e-30</td>\n",
       "</tr>\n",
       "<tr>\n",
       "  <th>Time:</th>                 <td>22:16:49</td>     <th>  Log-Likelihood:    </th> <td> -683.97</td>\n",
       "</tr>\n",
       "<tr>\n",
       "  <th>No. Observations:</th>      <td>   143</td>      <th>  AIC:               </th> <td>   1372.</td>\n",
       "</tr>\n",
       "<tr>\n",
       "  <th>Df Residuals:</th>          <td>   141</td>      <th>  BIC:               </th> <td>   1378.</td>\n",
       "</tr>\n",
       "<tr>\n",
       "  <th>Df Model:</th>              <td>     1</td>      <th>                     </th>     <td> </td>   \n",
       "</tr>\n",
       "<tr>\n",
       "  <th>Covariance Type:</th>      <td>nonrobust</td>    <th>                     </th>     <td> </td>   \n",
       "</tr>\n",
       "</table>\n",
       "<table class=\"simpletable\">\n",
       "<tr>\n",
       "      <td></td>        <th>coef</th>     <th>std err</th>      <th>t</th>      <th>P>|t|</th>  <th>[0.025</th>    <th>0.975]</th>  \n",
       "</tr>\n",
       "<tr>\n",
       "  <th>const</th>    <td> -298.8710</td> <td>   25.536</td> <td>  -11.704</td> <td> 0.000</td> <td> -349.355</td> <td> -248.387</td>\n",
       "</tr>\n",
       "<tr>\n",
       "  <th>life_exp</th> <td>    5.1021</td> <td>    0.344</td> <td>   14.812</td> <td> 0.000</td> <td>    4.421</td> <td>    5.783</td>\n",
       "</tr>\n",
       "</table>\n",
       "<table class=\"simpletable\">\n",
       "<tr>\n",
       "  <th>Omnibus:</th>       <td> 7.539</td> <th>  Durbin-Watson:     </th> <td>   1.234</td>\n",
       "</tr>\n",
       "<tr>\n",
       "  <th>Prob(Omnibus):</th> <td> 0.023</td> <th>  Jarque-Bera (JB):  </th> <td>   6.120</td>\n",
       "</tr>\n",
       "<tr>\n",
       "  <th>Skew:</th>          <td>-0.408</td> <th>  Prob(JB):          </th> <td>  0.0469</td>\n",
       "</tr>\n",
       "<tr>\n",
       "  <th>Kurtosis:</th>      <td> 2.400</td> <th>  Cond. No.          </th> <td>    778.</td>\n",
       "</tr>\n",
       "</table><br/><br/>Notes:<br/>[1] Standard Errors assume that the covariance matrix of the errors is correctly specified."
      ],
      "text/plain": [
       "<class 'statsmodels.iolib.summary.Summary'>\n",
       "\"\"\"\n",
       "                            OLS Regression Results                            \n",
       "==============================================================================\n",
       "Dep. Variable:        happiness_score   R-squared:                       0.609\n",
       "Model:                            OLS   Adj. R-squared:                  0.606\n",
       "Method:                 Least Squares   F-statistic:                     219.4\n",
       "Date:                Sun, 05 Mar 2023   Prob (F-statistic):           1.59e-30\n",
       "Time:                        22:16:49   Log-Likelihood:                -683.97\n",
       "No. Observations:                 143   AIC:                             1372.\n",
       "Df Residuals:                     141   BIC:                             1378.\n",
       "Df Model:                           1                                         \n",
       "Covariance Type:            nonrobust                                         \n",
       "==============================================================================\n",
       "                 coef    std err          t      P>|t|      [0.025      0.975]\n",
       "------------------------------------------------------------------------------\n",
       "const       -298.8710     25.536    -11.704      0.000    -349.355    -248.387\n",
       "life_exp       5.1021      0.344     14.812      0.000       4.421       5.783\n",
       "==============================================================================\n",
       "Omnibus:                        7.539   Durbin-Watson:                   1.234\n",
       "Prob(Omnibus):                  0.023   Jarque-Bera (JB):                6.120\n",
       "Skew:                          -0.408   Prob(JB):                       0.0469\n",
       "Kurtosis:                       2.400   Cond. No.                         778.\n",
       "==============================================================================\n",
       "\n",
       "Notes:\n",
       "[1] Standard Errors assume that the covariance matrix of the errors is correctly specified.\n",
       "\"\"\""
      ]
     },
     "execution_count": 17,
     "metadata": {},
     "output_type": "execute_result"
    }
   ],
   "source": [
    "# Q6 - Part 1\n",
    "\n",
    "import statsmodels.api as sm\n",
    "\n",
    "Y = happy['happiness_score']    # endogenous variable\n",
    "X = happy['life_exp']           # exogenous variable\n",
    "X = sm.add_constant(data=X)     # add a constant to the model\n",
    "model = sm.OLS(endog=Y,exog=X)\n",
    "results = model.fit()\n",
    "\n",
    "results.summary()"
   ]
  },
  {
   "cell_type": "code",
   "execution_count": 18,
   "id": "27c0e78f-7d4a-449f-af33-888f35d1b943",
   "metadata": {},
   "outputs": [
    {
     "name": "stdout",
     "output_type": "stream",
     "text": [
      "Incremento happiness score: 5.1021\n"
     ]
    }
   ],
   "source": [
    "# Q6 - Part 2\n",
    "\n",
    "# Let's extract angular coefficient of our model:\n",
    "b1 = pd.DataFrame(results.summary().tables[1])[1].iloc[2]\n",
    "b1 = str(b1).strip()\n",
    "print(f'Incremento happiness score: {b1}')\n",
    "\n",
    "# To answer our question: increase is given by the slope of our model, i.e. by its angular coefficient (b1 = 5.1021)\n",
    "\n",
    "# In fact, to see how much y increases by increasing x by one point, we should use the equation: Δy = b1 * Δx e porre Δx = 1. \n",
    "# In details:\n",
    "\n",
    "# Δy = y2 - y1\n",
    "# Δy = (b1 * x2 + b0) - (b1 * x1 + b0)\n",
    "# Δy = b1 * x2 + b0 - b1 * x1 - b0\n",
    "# Δy = b1 * x2 - b1 * x1 + b0 - b0\n",
    "# Δy = b1 * (x2 - x1) + 0\n",
    "# Δy = b1 * Δx\n",
    "# and setting Δx = 1 we obtain:\n",
    "# Δy = b1\n",
    "\n",
    "# This is because the geometric meaning of the coefficient b1 is just the change in y as x increases by one point."
   ]
  },
  {
   "cell_type": "markdown",
   "id": "1c567dad-9583-4731-aafb-2e887d461403",
   "metadata": {},
   "source": [
    "### Part 3: Multiple Linear Regression Model\n",
    "\n",
    "7. Let's now split the dataset in `train` and `test` sets, leaving 33% of the data in the latter. Then, using the `sklearn` package, we will train a linear regression model where we try to predict the `happiness_score` using the following set of predictors (chosen a priori): `['social_support', 'freedom', 'generosity', 'life_exp']` *(Let's use a `random_state=42` parameter to fix our results)*. Let's then calculate the R-squared on the train set and compare it with the R-squared based on the test set. So let's answer the question: **is the model overfitting the training data?**"
   ]
  },
  {
   "cell_type": "code",
   "execution_count": 19,
   "id": "95542eda-6273-45fc-bcc3-d7aa2cd2675d",
   "metadata": {},
   "outputs": [],
   "source": [
    "import statsmodels.api as sm\n",
    "\n",
    "from sklearn.model_selection import train_test_split\n",
    "from sklearn.linear_model import LinearRegression\n",
    "from sklearn.metrics import r2_score"
   ]
  },
  {
   "cell_type": "code",
   "execution_count": 20,
   "id": "a9cff7dc-db95-40b5-a1cc-dc13af9cb3a6",
   "metadata": {},
   "outputs": [],
   "source": [
    "\n",
    "Y = happy['happiness_score']\n",
    "X = happy[['social_support', 'freedom', 'generosity', 'life_exp']]\n",
    "X = sm.add_constant(data=X)"
   ]
  },
  {
   "cell_type": "code",
   "execution_count": 21,
   "id": "3ed70bce-8662-4a3f-977d-d02c64393aad",
   "metadata": {},
   "outputs": [],
   "source": [
    "# Let's split the dataset into train and test:\n",
    "X_train, X_test, Y_train, Y_test = train_test_split(X, Y, test_size=0.33, random_state=42)"
   ]
  },
  {
   "cell_type": "code",
   "execution_count": 22,
   "id": "e2fafdf8-87d4-4a7b-97c4-7629e09c7f65",
   "metadata": {},
   "outputs": [
    {
     "name": "stdout",
     "output_type": "stream",
     "text": [
      "R2 value for train data: 0.784887\n",
      "R2 value for test data: 0.777237\n"
     ]
    }
   ],
   "source": [
    "# Q7 - Version 1 (by scikit-learn)\n",
    "\n",
    "# Let's apply linear regression to the training data:\n",
    "reg = LinearRegression().fit(X_train,Y_train) \n",
    "\n",
    "# Let's predict Y values for training data via our trained model:\n",
    "Y_test_pred = reg.predict(X_test)\n",
    "Y_train_pred = reg.predict(X_train)\n",
    "\n",
    "# Let's calculate the R2 for the Y_train training data compared to the predictions estimated by the model:\n",
    "r2_train = r2_score(Y_train,Y_train_pred)\n",
    "\n",
    "# Let's calculate the R2 for the Y_test values compared to the predictions Y_pred estimated by the model starting from X_test\n",
    "r2_test = r2_score(Y_test,Y_test_pred)\n",
    "\n",
    "# Let's print the results:\n",
    "print(f'R2 value for train data: {r2_train:.6f}')\n",
    "print(f'R2 value for test data: {r2_test:.6f}')\n",
    "\n",
    "## reg.intercept_, reg.coef_"
   ]
  },
  {
   "cell_type": "code",
   "execution_count": 23,
   "id": "001b0709-312d-47ef-8ac2-b93196ab87a0",
   "metadata": {},
   "outputs": [
    {
     "data": {
      "text/html": [
       "<table class=\"simpletable\">\n",
       "<caption>OLS Regression Results</caption>\n",
       "<tr>\n",
       "  <th>Dep. Variable:</th>     <td>happiness_score</td> <th>  R-squared:         </th> <td>   0.785</td>\n",
       "</tr>\n",
       "<tr>\n",
       "  <th>Model:</th>                   <td>OLS</td>       <th>  Adj. R-squared:    </th> <td>   0.775</td>\n",
       "</tr>\n",
       "<tr>\n",
       "  <th>Method:</th>             <td>Least Squares</td>  <th>  F-statistic:       </th> <td>   82.10</td>\n",
       "</tr>\n",
       "<tr>\n",
       "  <th>Date:</th>             <td>Sun, 05 Mar 2023</td> <th>  Prob (F-statistic):</th> <td>3.39e-29</td>\n",
       "</tr>\n",
       "<tr>\n",
       "  <th>Time:</th>                 <td>22:16:49</td>     <th>  Log-Likelihood:    </th> <td> -426.46</td>\n",
       "</tr>\n",
       "<tr>\n",
       "  <th>No. Observations:</th>      <td>    95</td>      <th>  AIC:               </th> <td>   862.9</td>\n",
       "</tr>\n",
       "<tr>\n",
       "  <th>Df Residuals:</th>          <td>    90</td>      <th>  BIC:               </th> <td>   875.7</td>\n",
       "</tr>\n",
       "<tr>\n",
       "  <th>Df Model:</th>              <td>     4</td>      <th>                     </th>     <td> </td>   \n",
       "</tr>\n",
       "<tr>\n",
       "  <th>Covariance Type:</th>      <td>nonrobust</td>    <th>                     </th>     <td> </td>   \n",
       "</tr>\n",
       "</table>\n",
       "<table class=\"simpletable\">\n",
       "<tr>\n",
       "         <td></td>           <th>coef</th>     <th>std err</th>      <th>t</th>      <th>P>|t|</th>  <th>[0.025</th>    <th>0.975]</th>  \n",
       "</tr>\n",
       "<tr>\n",
       "  <th>const</th>          <td>    1.3763</td> <td>   38.767</td> <td>    0.036</td> <td> 0.972</td> <td>  -75.642</td> <td>   78.395</td>\n",
       "</tr>\n",
       "<tr>\n",
       "  <th>social_support</th> <td>   -0.5119</td> <td>    0.073</td> <td>   -7.025</td> <td> 0.000</td> <td>   -0.657</td> <td>   -0.367</td>\n",
       "</tr>\n",
       "<tr>\n",
       "  <th>freedom</th>        <td>   -0.1786</td> <td>    0.060</td> <td>   -2.966</td> <td> 0.004</td> <td>   -0.298</td> <td>   -0.059</td>\n",
       "</tr>\n",
       "<tr>\n",
       "  <th>generosity</th>     <td>   -0.0518</td> <td>    0.061</td> <td>   -0.847</td> <td> 0.399</td> <td>   -0.173</td> <td>    0.070</td>\n",
       "</tr>\n",
       "<tr>\n",
       "  <th>life_exp</th>       <td>    1.8109</td> <td>    0.459</td> <td>    3.942</td> <td> 0.000</td> <td>    0.898</td> <td>    2.724</td>\n",
       "</tr>\n",
       "</table>\n",
       "<table class=\"simpletable\">\n",
       "<tr>\n",
       "  <th>Omnibus:</th>       <td> 1.025</td> <th>  Durbin-Watson:     </th> <td>   1.871</td>\n",
       "</tr>\n",
       "<tr>\n",
       "  <th>Prob(Omnibus):</th> <td> 0.599</td> <th>  Jarque-Bera (JB):  </th> <td>   0.523</td>\n",
       "</tr>\n",
       "<tr>\n",
       "  <th>Skew:</th>          <td>-0.042</td> <th>  Prob(JB):          </th> <td>   0.770</td>\n",
       "</tr>\n",
       "<tr>\n",
       "  <th>Kurtosis:</th>      <td> 3.354</td> <th>  Cond. No.          </th> <td>2.84e+03</td>\n",
       "</tr>\n",
       "</table><br/><br/>Notes:<br/>[1] Standard Errors assume that the covariance matrix of the errors is correctly specified.<br/>[2] The condition number is large, 2.84e+03. This might indicate that there are<br/>strong multicollinearity or other numerical problems."
      ],
      "text/plain": [
       "<class 'statsmodels.iolib.summary.Summary'>\n",
       "\"\"\"\n",
       "                            OLS Regression Results                            \n",
       "==============================================================================\n",
       "Dep. Variable:        happiness_score   R-squared:                       0.785\n",
       "Model:                            OLS   Adj. R-squared:                  0.775\n",
       "Method:                 Least Squares   F-statistic:                     82.10\n",
       "Date:                Sun, 05 Mar 2023   Prob (F-statistic):           3.39e-29\n",
       "Time:                        22:16:49   Log-Likelihood:                -426.46\n",
       "No. Observations:                  95   AIC:                             862.9\n",
       "Df Residuals:                      90   BIC:                             875.7\n",
       "Df Model:                           4                                         \n",
       "Covariance Type:            nonrobust                                         \n",
       "==================================================================================\n",
       "                     coef    std err          t      P>|t|      [0.025      0.975]\n",
       "----------------------------------------------------------------------------------\n",
       "const              1.3763     38.767      0.036      0.972     -75.642      78.395\n",
       "social_support    -0.5119      0.073     -7.025      0.000      -0.657      -0.367\n",
       "freedom           -0.1786      0.060     -2.966      0.004      -0.298      -0.059\n",
       "generosity        -0.0518      0.061     -0.847      0.399      -0.173       0.070\n",
       "life_exp           1.8109      0.459      3.942      0.000       0.898       2.724\n",
       "==============================================================================\n",
       "Omnibus:                        1.025   Durbin-Watson:                   1.871\n",
       "Prob(Omnibus):                  0.599   Jarque-Bera (JB):                0.523\n",
       "Skew:                          -0.042   Prob(JB):                        0.770\n",
       "Kurtosis:                       3.354   Cond. No.                     2.84e+03\n",
       "==============================================================================\n",
       "\n",
       "Notes:\n",
       "[1] Standard Errors assume that the covariance matrix of the errors is correctly specified.\n",
       "[2] The condition number is large, 2.84e+03. This might indicate that there are\n",
       "strong multicollinearity or other numerical problems.\n",
       "\"\"\""
      ]
     },
     "execution_count": 23,
     "metadata": {},
     "output_type": "execute_result"
    }
   ],
   "source": [
    "# Q7 - Version 2 (by statsmodels)\n",
    "\n",
    "# Let's apply linear regression to the training data:\n",
    "model = sm.OLS(Y_train,X_train)\n",
    "results = model.fit()\n",
    "results.summary()"
   ]
  },
  {
   "cell_type": "code",
   "execution_count": 24,
   "id": "e0d04540-0d5f-44f0-ace0-6766e86afd78",
   "metadata": {},
   "outputs": [
    {
     "name": "stdout",
     "output_type": "stream",
     "text": [
      "R-squared of train set: 0.784887\n",
      "R-squared of test set: 0.777237\n"
     ]
    }
   ],
   "source": [
    "# Let's predict the results for the training data:\n",
    "pred_train = results.predict(X_train)\n",
    "\n",
    "# As an exercise and just to verify that everything is working, let's manually calculate the R-squared value \n",
    "# for the train data and verify that it has the same R-squared value found in the model summary:\n",
    "ssr_train = np.sum((Y_train - pred_train)**2)\n",
    "sst_train = np.sum((Y_train - np.mean(Y_train))**2)\n",
    "rsq_train = 1 - (ssr_train/sst_train)\n",
    "print('R-squared of train set:', round(rsq_train, 6))\n",
    "\n",
    "\n",
    "# Let's predict test data results, not known by the model:\n",
    "pred_test = results.predict(X_test)\n",
    "\n",
    "# Let's calculate the R2 that the real values of Y_test have with respect \n",
    "# to the pred_test predictions that the model made starting from X_test:\n",
    "ssr_test = np.sum((Y_test - pred_test)**2)\n",
    "\n",
    "sst_test = np.sum((Y_test - np.mean(Y_test))**2)\n",
    "rsq_test = 1 - (ssr_test/sst_test)\n",
    "print('R-squared of test set:', round(rsq_test, 6))"
   ]
  },
  {
   "cell_type": "code",
   "execution_count": 25,
   "id": "e0dbc626-ad5a-4135-bab0-cf9c886d59c4",
   "metadata": {},
   "outputs": [],
   "source": [
    "# Results match sklearn results, so it's ok"
   ]
  },
  {
   "cell_type": "code",
   "execution_count": 26,
   "id": "3e4f8884-c14b-407d-8e72-aee043191fa0",
   "metadata": {},
   "outputs": [],
   "source": [
    "# CONCLUSION: \n",
    "#    since the R-squared of the test data (not known by the model) is very similar to the R-squared of the \n",
    "#    data used for training (and therefore known by the model), we can say that the model \n",
    "#    predicts the test data as accurately as estimate the data used for training.\n",
    "#    It can therefore be concluded that there is no overfitting.\n",
    "\n",
    "#    Also, it makes sense that the R-squared of the test data is slightly lower than the R-squared of the\n",
    "#    of the training data (0.777 versus 0.785) because this is still data that the model does \n",
    "#    not know about and has not been trained on (predictions vs estimates)."
   ]
  },
  {
   "cell_type": "markdown",
   "id": "3feb419a-e0ae-4805-aec4-34523c4e7276",
   "metadata": {},
   "source": [
    "8. Using our model, let's now calculate the MAE on the testing set and report and let's answer the question: **is our model's performance satisfying?**"
   ]
  },
  {
   "cell_type": "code",
   "execution_count": 27,
   "id": "a8a0013b-3210-4076-9f2a-637c93fbf5d4",
   "metadata": {},
   "outputs": [],
   "source": [
    "# Mean Absolute Error (MAE)\n",
    "def mae(y, pred): \n",
    "    return round(np.mean(np.abs(y - pred)), 2)\n",
    "\n",
    "# Mean Absolute Percentage Error (MAPE)\n",
    "def mape(y, pred): \n",
    "    return round(np.mean(np.abs((y - pred)/y))*100, 2)"
   ]
  },
  {
   "cell_type": "code",
   "execution_count": 28,
   "id": "48aebae2-1601-4a22-8703-a8f01d3f954d",
   "metadata": {},
   "outputs": [
    {
     "name": "stdout",
     "output_type": "stream",
     "text": [
      "Naïve Training MAE: 40.38\n",
      "Training MAE: 16.92\n",
      "\n",
      "Naïve Testing MAE: 39.94\n",
      "Testing MAE: 17.54\n"
     ]
    }
   ],
   "source": [
    "# Let's calculate the MAE for the train and test data. To get an idea of their size, let's compare them\n",
    "# with the MAE values that the data would have compared to a naïve model, which simply predicts the \n",
    "# average of the dataset values:\n",
    "\n",
    "print('Naïve Training MAE:', mae(Y_train, np.mean(Y_train))) #naive mae\n",
    "print('Training MAE:', mae(Y_train, pred_train)) # mae\n",
    "print('')\n",
    "print('Naïve Testing MAE:', mae(Y_test, np.mean(Y_test))) #naive mae\n",
    "print('Testing MAE:', mae(Y_test, pred_test)) # mae"
   ]
  },
  {
   "cell_type": "code",
   "execution_count": 29,
   "id": "fefa302c-e140-4449-8364-b40dfaec3b58",
   "metadata": {},
   "outputs": [],
   "source": [
    "# Since MAE values for the training and test data are similar, I have another confirmation that\n",
    "# the model does not have overfitting issues.\n",
    "\n",
    "\n",
    "# CONCLUSION:\n",
    "#    Considering that the happiness_score values are uniformly distributed from 0 to 155 and that the Testing MAE \n",
    "#    has a value of 17, there will be a large portion of data (the largest values) for which the MAE weighs little\n",
    "#    and for which the prediction will be more accurate; but there will be an equally large portion of data (the \n",
    "#    smallest values) for which prediction may deviate greatly from the real values. In general, therefore, the model \n",
    "#    appears to be unsatisfying.\n",
    "\n",
    "# To further confirm this, let's calculate MAPE for the test set:"
   ]
  },
  {
   "cell_type": "code",
   "execution_count": 30,
   "id": "5531d33c-4080-4943-abd2-0ee50003ca99",
   "metadata": {},
   "outputs": [
    {
     "name": "stdout",
     "output_type": "stream",
     "text": [
      "Testing MAPE: 38.63%\n",
      "Testing MAPE: 38.63%\n"
     ]
    }
   ],
   "source": [
    "print(f'Testing MAPE: {mape(Y_test, pred_test)}%')\n",
    "print(f'Testing MAPE: {mape(Y_test, Y_test_pred)}%')"
   ]
  },
  {
   "cell_type": "code",
   "execution_count": 31,
   "id": "942fccc5-cf1a-4f22-8f52-6b58e942cf2d",
   "metadata": {},
   "outputs": [
    {
     "data": {
      "text/plain": [
       "social_support   -0.821384\n",
       "freedom          -0.565298\n",
       "corruption       -0.211122\n",
       "generosity       -0.497250\n",
       "gdp_per_cap       0.727973\n",
       "life_exp          0.780225\n",
       "Name: happiness_score, dtype: float64"
      ]
     },
     "execution_count": 31,
     "metadata": {},
     "output_type": "execute_result"
    }
   ],
   "source": [
    "# Since MAPE has a value of 38%, we can conclude that the model is unsatisfactory.\n",
    "\n",
    "# In addition, we can also notice that it is quite weird to find a negative relationship between the \n",
    "# happiness score and the variables social support, freedom and generosity:\n",
    "\n",
    "happy.corr()['happiness_score'][:-1]"
   ]
  },
  {
   "cell_type": "markdown",
   "id": "a789b3c5-ffcf-4769-a5c9-0487ada0ee3c",
   "metadata": {},
   "source": [
    "9. Since our model is unsatisfying, let's answer to the question: **is it possible to improve our previous model?**\n"
   ]
  },
  {
   "cell_type": "code",
   "execution_count": 32,
   "id": "21dbe95d-d836-4c2d-9ab1-922a969fbf81",
   "metadata": {},
   "outputs": [
    {
     "data": {
      "text/html": [
       "<table class=\"simpletable\">\n",
       "<caption>OLS Regression Results</caption>\n",
       "<tr>\n",
       "  <th>Dep. Variable:</th>     <td>happiness_score</td> <th>  R-squared:         </th> <td>   0.785</td>\n",
       "</tr>\n",
       "<tr>\n",
       "  <th>Model:</th>                   <td>OLS</td>       <th>  Adj. R-squared:    </th> <td>   0.775</td>\n",
       "</tr>\n",
       "<tr>\n",
       "  <th>Method:</th>             <td>Least Squares</td>  <th>  F-statistic:       </th> <td>   82.10</td>\n",
       "</tr>\n",
       "<tr>\n",
       "  <th>Date:</th>             <td>Sun, 05 Mar 2023</td> <th>  Prob (F-statistic):</th> <td>3.39e-29</td>\n",
       "</tr>\n",
       "<tr>\n",
       "  <th>Time:</th>                 <td>22:16:50</td>     <th>  Log-Likelihood:    </th> <td> -426.46</td>\n",
       "</tr>\n",
       "<tr>\n",
       "  <th>No. Observations:</th>      <td>    95</td>      <th>  AIC:               </th> <td>   862.9</td>\n",
       "</tr>\n",
       "<tr>\n",
       "  <th>Df Residuals:</th>          <td>    90</td>      <th>  BIC:               </th> <td>   875.7</td>\n",
       "</tr>\n",
       "<tr>\n",
       "  <th>Df Model:</th>              <td>     4</td>      <th>                     </th>     <td> </td>   \n",
       "</tr>\n",
       "<tr>\n",
       "  <th>Covariance Type:</th>      <td>nonrobust</td>    <th>                     </th>     <td> </td>   \n",
       "</tr>\n",
       "</table>"
      ],
      "text/plain": [
       "<class 'statsmodels.iolib.table.SimpleTable'>"
      ]
     },
     "execution_count": 32,
     "metadata": {},
     "output_type": "execute_result"
    }
   ],
   "source": [
    "# Q9\n",
    "\n",
    "# First of all, let's look back to our model; in particular let's look to his coefficients, p-values \n",
    "# and to the values of the correlation matrix:\n",
    "\n",
    "results.summary().tables[0]"
   ]
  },
  {
   "cell_type": "code",
   "execution_count": 33,
   "id": "01ba2fd8-2a74-41e0-afe6-025b5f8db116",
   "metadata": {},
   "outputs": [
    {
     "data": {
      "text/html": [
       "<table class=\"simpletable\">\n",
       "<tr>\n",
       "         <td></td>           <th>coef</th>     <th>std err</th>      <th>t</th>      <th>P>|t|</th>  <th>[0.025</th>    <th>0.975]</th>  \n",
       "</tr>\n",
       "<tr>\n",
       "  <th>const</th>          <td>    1.3763</td> <td>   38.767</td> <td>    0.036</td> <td> 0.972</td> <td>  -75.642</td> <td>   78.395</td>\n",
       "</tr>\n",
       "<tr>\n",
       "  <th>social_support</th> <td>   -0.5119</td> <td>    0.073</td> <td>   -7.025</td> <td> 0.000</td> <td>   -0.657</td> <td>   -0.367</td>\n",
       "</tr>\n",
       "<tr>\n",
       "  <th>freedom</th>        <td>   -0.1786</td> <td>    0.060</td> <td>   -2.966</td> <td> 0.004</td> <td>   -0.298</td> <td>   -0.059</td>\n",
       "</tr>\n",
       "<tr>\n",
       "  <th>generosity</th>     <td>   -0.0518</td> <td>    0.061</td> <td>   -0.847</td> <td> 0.399</td> <td>   -0.173</td> <td>    0.070</td>\n",
       "</tr>\n",
       "<tr>\n",
       "  <th>life_exp</th>       <td>    1.8109</td> <td>    0.459</td> <td>    3.942</td> <td> 0.000</td> <td>    0.898</td> <td>    2.724</td>\n",
       "</tr>\n",
       "</table>"
      ],
      "text/plain": [
       "<class 'statsmodels.iolib.table.SimpleTable'>"
      ]
     },
     "execution_count": 33,
     "metadata": {},
     "output_type": "execute_result"
    }
   ],
   "source": [
    "# Let's look at p-values to check the significance of the variables:\n",
    "results.summary().tables[1]"
   ]
  },
  {
   "cell_type": "code",
   "execution_count": 34,
   "id": "5d7d8a6b-9ac2-46ef-88ec-5a2a8866f942",
   "metadata": {},
   "outputs": [
    {
     "data": {
      "text/html": [
       "<div>\n",
       "<style scoped>\n",
       "    .dataframe tbody tr th:only-of-type {\n",
       "        vertical-align: middle;\n",
       "    }\n",
       "\n",
       "    .dataframe tbody tr th {\n",
       "        vertical-align: top;\n",
       "    }\n",
       "\n",
       "    .dataframe thead th {\n",
       "        text-align: right;\n",
       "    }\n",
       "</style>\n",
       "<table border=\"1\" class=\"dataframe\">\n",
       "  <thead>\n",
       "    <tr style=\"text-align: right;\">\n",
       "      <th></th>\n",
       "      <th>social_support</th>\n",
       "      <th>freedom</th>\n",
       "      <th>corruption</th>\n",
       "      <th>generosity</th>\n",
       "      <th>gdp_per_cap</th>\n",
       "      <th>life_exp</th>\n",
       "      <th>happiness_score</th>\n",
       "    </tr>\n",
       "  </thead>\n",
       "  <tbody>\n",
       "    <tr>\n",
       "      <th>social_support</th>\n",
       "      <td>1.000000</td>\n",
       "      <td>0.470893</td>\n",
       "      <td>0.153112</td>\n",
       "      <td>0.449225</td>\n",
       "      <td>-0.635651</td>\n",
       "      <td>-0.703274</td>\n",
       "      <td>-0.821384</td>\n",
       "    </tr>\n",
       "    <tr>\n",
       "      <th>freedom</th>\n",
       "      <td>0.470893</td>\n",
       "      <td>1.000000</td>\n",
       "      <td>0.379438</td>\n",
       "      <td>0.493207</td>\n",
       "      <td>-0.411042</td>\n",
       "      <td>-0.387622</td>\n",
       "      <td>-0.565298</td>\n",
       "    </tr>\n",
       "    <tr>\n",
       "      <th>corruption</th>\n",
       "      <td>0.153112</td>\n",
       "      <td>0.379438</td>\n",
       "      <td>1.000000</td>\n",
       "      <td>0.296768</td>\n",
       "      <td>-0.292755</td>\n",
       "      <td>-0.133278</td>\n",
       "      <td>-0.211122</td>\n",
       "    </tr>\n",
       "    <tr>\n",
       "      <th>generosity</th>\n",
       "      <td>0.449225</td>\n",
       "      <td>0.493207</td>\n",
       "      <td>0.296768</td>\n",
       "      <td>1.000000</td>\n",
       "      <td>-0.491708</td>\n",
       "      <td>-0.431770</td>\n",
       "      <td>-0.497250</td>\n",
       "    </tr>\n",
       "    <tr>\n",
       "      <th>gdp_per_cap</th>\n",
       "      <td>-0.635651</td>\n",
       "      <td>-0.411042</td>\n",
       "      <td>-0.292755</td>\n",
       "      <td>-0.491708</td>\n",
       "      <td>1.000000</td>\n",
       "      <td>0.701955</td>\n",
       "      <td>0.727973</td>\n",
       "    </tr>\n",
       "    <tr>\n",
       "      <th>life_exp</th>\n",
       "      <td>-0.703274</td>\n",
       "      <td>-0.387622</td>\n",
       "      <td>-0.133278</td>\n",
       "      <td>-0.431770</td>\n",
       "      <td>0.701955</td>\n",
       "      <td>1.000000</td>\n",
       "      <td>0.780225</td>\n",
       "    </tr>\n",
       "    <tr>\n",
       "      <th>happiness_score</th>\n",
       "      <td>-0.821384</td>\n",
       "      <td>-0.565298</td>\n",
       "      <td>-0.211122</td>\n",
       "      <td>-0.497250</td>\n",
       "      <td>0.727973</td>\n",
       "      <td>0.780225</td>\n",
       "      <td>1.000000</td>\n",
       "    </tr>\n",
       "  </tbody>\n",
       "</table>\n",
       "</div>"
      ],
      "text/plain": [
       "                 social_support   freedom  corruption  generosity  \\\n",
       "social_support         1.000000  0.470893    0.153112    0.449225   \n",
       "freedom                0.470893  1.000000    0.379438    0.493207   \n",
       "corruption             0.153112  0.379438    1.000000    0.296768   \n",
       "generosity             0.449225  0.493207    0.296768    1.000000   \n",
       "gdp_per_cap           -0.635651 -0.411042   -0.292755   -0.491708   \n",
       "life_exp              -0.703274 -0.387622   -0.133278   -0.431770   \n",
       "happiness_score       -0.821384 -0.565298   -0.211122   -0.497250   \n",
       "\n",
       "                 gdp_per_cap  life_exp  happiness_score  \n",
       "social_support     -0.635651 -0.703274        -0.821384  \n",
       "freedom            -0.411042 -0.387622        -0.565298  \n",
       "corruption         -0.292755 -0.133278        -0.211122  \n",
       "generosity         -0.491708 -0.431770        -0.497250  \n",
       "gdp_per_cap         1.000000  0.701955         0.727973  \n",
       "life_exp            0.701955  1.000000         0.780225  \n",
       "happiness_score     0.727973  0.780225         1.000000  "
      ]
     },
     "execution_count": 34,
     "metadata": {},
     "output_type": "execute_result"
    }
   ],
   "source": [
    "# Let's look at the correlation between the variables:\n",
    "happy.corr()"
   ]
  },
  {
   "cell_type": "code",
   "execution_count": 35,
   "id": "3986d32d-a7ad-4e23-a459-f6597530bb83",
   "metadata": {},
   "outputs": [],
   "source": [
    "# As we caqn see from the summary, \"generosity\" has a not significant p-value and a high correlation \n",
    "# with the other variables, so I choose to exclude it from the model.\n",
    "\n",
    "# I also choose to add the \"gdp_per_cap\" variable among the Xs, which has a high correlation with the dependent\n",
    "# variable; Also, I intuitively expect \"gdp_per_cap\" to be a significant variable for determining the happiness score. So:"
   ]
  },
  {
   "cell_type": "code",
   "execution_count": 36,
   "id": "0d48ee2e-a0f2-433b-9761-7bcd16570bfb",
   "metadata": {},
   "outputs": [
    {
     "data": {
      "text/html": [
       "<table class=\"simpletable\">\n",
       "<caption>OLS Regression Results</caption>\n",
       "<tr>\n",
       "  <th>Dep. Variable:</th>     <td>happiness_score</td> <th>  R-squared:         </th> <td>   0.796</td>\n",
       "</tr>\n",
       "<tr>\n",
       "  <th>Model:</th>                   <td>OLS</td>       <th>  Adj. R-squared:    </th> <td>   0.787</td>\n",
       "</tr>\n",
       "<tr>\n",
       "  <th>Method:</th>             <td>Least Squares</td>  <th>  F-statistic:       </th> <td>   87.93</td>\n",
       "</tr>\n",
       "<tr>\n",
       "  <th>Date:</th>             <td>Sun, 05 Mar 2023</td> <th>  Prob (F-statistic):</th> <td>2.99e-30</td>\n",
       "</tr>\n",
       "<tr>\n",
       "  <th>Time:</th>                 <td>22:16:50</td>     <th>  Log-Likelihood:    </th> <td> -423.88</td>\n",
       "</tr>\n",
       "<tr>\n",
       "  <th>No. Observations:</th>      <td>    95</td>      <th>  AIC:               </th> <td>   857.8</td>\n",
       "</tr>\n",
       "<tr>\n",
       "  <th>Df Residuals:</th>          <td>    90</td>      <th>  BIC:               </th> <td>   870.5</td>\n",
       "</tr>\n",
       "<tr>\n",
       "  <th>Df Model:</th>              <td>     4</td>      <th>                     </th>     <td> </td>   \n",
       "</tr>\n",
       "<tr>\n",
       "  <th>Covariance Type:</th>      <td>nonrobust</td>    <th>                     </th>     <td> </td>   \n",
       "</tr>\n",
       "</table>\n",
       "<table class=\"simpletable\">\n",
       "<tr>\n",
       "         <td></td>           <th>coef</th>     <th>std err</th>      <th>t</th>      <th>P>|t|</th>  <th>[0.025</th>    <th>0.975]</th>  \n",
       "</tr>\n",
       "<tr>\n",
       "  <th>const</th>          <td>   22.6797</td> <td>   38.750</td> <td>    0.585</td> <td> 0.560</td> <td>  -54.304</td> <td>   99.664</td>\n",
       "</tr>\n",
       "<tr>\n",
       "  <th>social_support</th> <td>   -0.4672</td> <td>    0.074</td> <td>   -6.343</td> <td> 0.000</td> <td>   -0.613</td> <td>   -0.321</td>\n",
       "</tr>\n",
       "<tr>\n",
       "  <th>freedom</th>        <td>   -0.1759</td> <td>    0.055</td> <td>   -3.199</td> <td> 0.002</td> <td>   -0.285</td> <td>   -0.067</td>\n",
       "</tr>\n",
       "<tr>\n",
       "  <th>gdp_per_cap</th>    <td>    0.0004</td> <td>    0.000</td> <td>    2.403</td> <td> 0.018</td> <td>  7.2e-05</td> <td>    0.001</td>\n",
       "</tr>\n",
       "<tr>\n",
       "  <th>life_exp</th>       <td>    1.3013</td> <td>    0.501</td> <td>    2.596</td> <td> 0.011</td> <td>    0.305</td> <td>    2.297</td>\n",
       "</tr>\n",
       "</table>\n",
       "<table class=\"simpletable\">\n",
       "<tr>\n",
       "  <th>Omnibus:</th>       <td> 1.700</td> <th>  Durbin-Watson:     </th> <td>   1.868</td>\n",
       "</tr>\n",
       "<tr>\n",
       "  <th>Prob(Omnibus):</th> <td> 0.427</td> <th>  Jarque-Bera (JB):  </th> <td>   1.168</td>\n",
       "</tr>\n",
       "<tr>\n",
       "  <th>Skew:</th>          <td> 0.089</td> <th>  Prob(JB):          </th> <td>   0.558</td>\n",
       "</tr>\n",
       "<tr>\n",
       "  <th>Kurtosis:</th>      <td> 3.513</td> <th>  Cond. No.          </th> <td>4.99e+05</td>\n",
       "</tr>\n",
       "</table><br/><br/>Notes:<br/>[1] Standard Errors assume that the covariance matrix of the errors is correctly specified.<br/>[2] The condition number is large, 4.99e+05. This might indicate that there are<br/>strong multicollinearity or other numerical problems."
      ],
      "text/plain": [
       "<class 'statsmodels.iolib.summary.Summary'>\n",
       "\"\"\"\n",
       "                            OLS Regression Results                            \n",
       "==============================================================================\n",
       "Dep. Variable:        happiness_score   R-squared:                       0.796\n",
       "Model:                            OLS   Adj. R-squared:                  0.787\n",
       "Method:                 Least Squares   F-statistic:                     87.93\n",
       "Date:                Sun, 05 Mar 2023   Prob (F-statistic):           2.99e-30\n",
       "Time:                        22:16:50   Log-Likelihood:                -423.88\n",
       "No. Observations:                  95   AIC:                             857.8\n",
       "Df Residuals:                      90   BIC:                             870.5\n",
       "Df Model:                           4                                         \n",
       "Covariance Type:            nonrobust                                         \n",
       "==================================================================================\n",
       "                     coef    std err          t      P>|t|      [0.025      0.975]\n",
       "----------------------------------------------------------------------------------\n",
       "const             22.6797     38.750      0.585      0.560     -54.304      99.664\n",
       "social_support    -0.4672      0.074     -6.343      0.000      -0.613      -0.321\n",
       "freedom           -0.1759      0.055     -3.199      0.002      -0.285      -0.067\n",
       "gdp_per_cap        0.0004      0.000      2.403      0.018     7.2e-05       0.001\n",
       "life_exp           1.3013      0.501      2.596      0.011       0.305       2.297\n",
       "==============================================================================\n",
       "Omnibus:                        1.700   Durbin-Watson:                   1.868\n",
       "Prob(Omnibus):                  0.427   Jarque-Bera (JB):                1.168\n",
       "Skew:                           0.089   Prob(JB):                        0.558\n",
       "Kurtosis:                       3.513   Cond. No.                     4.99e+05\n",
       "==============================================================================\n",
       "\n",
       "Notes:\n",
       "[1] Standard Errors assume that the covariance matrix of the errors is correctly specified.\n",
       "[2] The condition number is large, 4.99e+05. This might indicate that there are\n",
       "strong multicollinearity or other numerical problems.\n",
       "\"\"\""
      ]
     },
     "execution_count": 36,
     "metadata": {},
     "output_type": "execute_result"
    }
   ],
   "source": [
    "Y_new = happy['happiness_score']\n",
    "X_new = happy[['social_support', 'freedom', 'gdp_per_cap', 'life_exp']]\n",
    "X_new = sm.add_constant(data=X_new)\n",
    "\n",
    "X_train_new, X_test_new, Y_train_new, Y_test_new = train_test_split(X_new, Y_new, test_size=0.33, random_state=42)\n",
    "\n",
    "# Let's apply linear regression to the training data:\n",
    "model_new = sm.OLS(Y_train_new,X_train_new)\n",
    "results_new = model_new.fit()\n",
    "## results.summary().tables[0]\n",
    "results_new.summary()"
   ]
  },
  {
   "cell_type": "code",
   "execution_count": 37,
   "id": "5c8a695a-6a9b-4981-be7d-f42c65f610ca",
   "metadata": {},
   "outputs": [
    {
     "data": {
      "text/html": [
       "<table class=\"simpletable\">\n",
       "<caption>OLS Regression Results</caption>\n",
       "<tr>\n",
       "  <th>Dep. Variable:</th>     <td>happiness_score</td> <th>  R-squared:         </th> <td>   0.796</td>\n",
       "</tr>\n",
       "<tr>\n",
       "  <th>Model:</th>                   <td>OLS</td>       <th>  Adj. R-squared:    </th> <td>   0.787</td>\n",
       "</tr>\n",
       "<tr>\n",
       "  <th>Method:</th>             <td>Least Squares</td>  <th>  F-statistic:       </th> <td>   87.93</td>\n",
       "</tr>\n",
       "<tr>\n",
       "  <th>Date:</th>             <td>Sun, 05 Mar 2023</td> <th>  Prob (F-statistic):</th> <td>2.99e-30</td>\n",
       "</tr>\n",
       "<tr>\n",
       "  <th>Time:</th>                 <td>22:16:50</td>     <th>  Log-Likelihood:    </th> <td> -423.88</td>\n",
       "</tr>\n",
       "<tr>\n",
       "  <th>No. Observations:</th>      <td>    95</td>      <th>  AIC:               </th> <td>   857.8</td>\n",
       "</tr>\n",
       "<tr>\n",
       "  <th>Df Residuals:</th>          <td>    90</td>      <th>  BIC:               </th> <td>   870.5</td>\n",
       "</tr>\n",
       "<tr>\n",
       "  <th>Df Model:</th>              <td>     4</td>      <th>                     </th>     <td> </td>   \n",
       "</tr>\n",
       "<tr>\n",
       "  <th>Covariance Type:</th>      <td>nonrobust</td>    <th>                     </th>     <td> </td>   \n",
       "</tr>\n",
       "</table>"
      ],
      "text/plain": [
       "<class 'statsmodels.iolib.table.SimpleTable'>"
      ]
     },
     "execution_count": 37,
     "metadata": {},
     "output_type": "execute_result"
    }
   ],
   "source": [
    "results_new.summary().tables[0]"
   ]
  },
  {
   "cell_type": "code",
   "execution_count": 38,
   "id": "5cc7252b-bc54-4285-81c2-315118e6d50f",
   "metadata": {},
   "outputs": [
    {
     "name": "stdout",
     "output_type": "stream",
     "text": [
      "R-squared of train set with new model: 0.796\n",
      "R-squared of train set with old model: 0.785\n",
      "\n",
      "R-squared of test set with new model: 0.801\n",
      "R-squared of test set with old model: 0.777\n"
     ]
    }
   ],
   "source": [
    "# Let's compare the train and test R2s of the two models:\n",
    "\n",
    "R2_new = str(results_new.summary().tables[0][0][3]).strip()\n",
    "R2_old = str(results.summary().tables[0][0][3]).strip()\n",
    "\n",
    "print(f'R-squared of train set with new model: {R2_new}')\n",
    "print(f'R-squared of train set with old model: {R2_old}')\n",
    "print('')\n",
    "\n",
    "# Let's predict the results for test data, not known by the model:\n",
    "pred_test_new = results_new.predict(X_test_new)\n",
    "\n",
    "# Let's calculate the R2 for the new model's train and test data and compare it to the previous model:\n",
    "ssr_test_new = np.sum((Y_test_new - pred_test_new)**2)\n",
    "sst_test_new = np.sum((Y_test_new - np.mean(Y_test_new))**2)\n",
    "rsq_test_new = 1 - (ssr_test_new/sst_test_new)\n",
    "print('R-squared of test set with new model:', round(rsq_test_new, 3))\n",
    "print('R-squared of test set with old model:', round(rsq_test, 3))"
   ]
  },
  {
   "cell_type": "code",
   "execution_count": 39,
   "id": "9430a5bc-fcef-411f-92e7-6e6f1c82a3b5",
   "metadata": {},
   "outputs": [
    {
     "name": "stdout",
     "output_type": "stream",
     "text": [
      "R-squared of train set with new model: 0.796\n",
      "R-squared of train set with old model: 0.785\n",
      "\n",
      "R-squared of test set with new model: 0.801\n",
      "R-squared of test set with old model: 0.777\n"
     ]
    }
   ],
   "source": [
    "# Alternatively, we can calculate R2 values by scikit-learn. Let's do it to make a check:\n",
    "\n",
    "reg_new = LinearRegression().fit(X_train_new,Y_train_new) \n",
    "\n",
    "Y_train_pred_new = reg_new.predict(X_train_new)\n",
    "Y_test_pred_new = reg_new.predict(X_test_new)\n",
    "\n",
    "r2_train_new = r2_score(Y_train_new,Y_train_pred_new)\n",
    "r2_test_new = r2_score(Y_test_new,Y_test_pred_new)\n",
    "\n",
    "# Stampo il risultato:\n",
    "print(f'R-squared of train set with new model: {r2_train_new:.3f}')\n",
    "print(f'R-squared of train set with old model: {r2_train:.3f}')\n",
    "print('')\n",
    "print(f'R-squared of test set with new model: {r2_test_new:.3f}')\n",
    "print(f'R-squared of test set with old model: {r2_test:.3f}')"
   ]
  },
  {
   "cell_type": "code",
   "execution_count": 40,
   "id": "f2afe61a-a103-44fd-b658-371ec5876d94",
   "metadata": {},
   "outputs": [
    {
     "name": "stdout",
     "output_type": "stream",
     "text": [
      "Training MAE with new model: 16.22\n",
      "Training MAE with old model: 16.92\n",
      "\n",
      "Testing MAE with new model: 16.79\n",
      "Testing MAE with old model: 17.54\n",
      "\n",
      "Testing MAPE with new model: 36.18%\n",
      "Testing MAPE with old model: 38.63%\n"
     ]
    }
   ],
   "source": [
    "# Let's print MAE and MAPE results:\n",
    "\n",
    "print('Training MAE with new model:', mae(Y_train_new, Y_train_pred_new))\n",
    "print('Training MAE with old model:', mae(Y_train, Y_train_pred))\n",
    "print('')\n",
    "print('Testing MAE with new model:', mae(Y_test_new, Y_test_pred_new))\n",
    "print('Testing MAE with old model:', mae(Y_test, Y_test_pred))\n",
    "print('')\n",
    "print(f'Testing MAPE with new model: {mape(Y_test_new, Y_test_pred_new)}%')\n",
    "print(f'Testing MAPE with old model: {mape(Y_test, Y_test_pred)}%')"
   ]
  },
  {
   "cell_type": "code",
   "execution_count": 41,
   "id": "b3ee0443-a7e9-45fd-afc6-e40ac079fd8b",
   "metadata": {},
   "outputs": [],
   "source": [
    "# CONCLUSION\n",
    "\n",
    "# Our new model has the following features:\n",
    "#    A better R-squared value than the previous model\n",
    "#    A better R-squared value calculated on test set data than the previous model\n",
    "#    Similar R-squared values between training data and test data\n",
    "#    Slightly better MAE and MAPE values than the previous model\n",
    "\n",
    "# We can therefore conclude that the new model has a better predictive power than the previous model \n",
    "# and, like the previous model, it has no overfitting problems.\n",
    "\n",
    "# We can also notice that in the new model, unlike the previous one, all the coefficients of the \n",
    "# variables used are significant.\n",
    "\n",
    "# Last note to make: we didn't solve the problem of multicollinearity. In fact, we made it worse.  \n",
    "# Anyway, the combination of variables that we have chosen for the Xs is the best compromise \n",
    "# among all those possible to predict the data.\n",
    "# We can conclude that Linear regression is not the best model for describing the trend of these data."
   ]
  }
 ],
 "metadata": {
  "kernelspec": {
   "display_name": "Python 3 (ipykernel)",
   "language": "python",
   "name": "python3"
  },
  "language_info": {
   "codemirror_mode": {
    "name": "ipython",
    "version": 3
   },
   "file_extension": ".py",
   "mimetype": "text/x-python",
   "name": "python",
   "nbconvert_exporter": "python",
   "pygments_lexer": "ipython3",
   "version": "3.9.13"
  }
 },
 "nbformat": 4,
 "nbformat_minor": 5
}
